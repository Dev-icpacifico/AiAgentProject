{
 "cells": [
  {
   "metadata": {},
   "cell_type": "markdown",
   "source": [
    "# Chain\n",
    "## Review\n",
    "\n",
    "En el archivo Simple_Graph se contruyó un grafico simple con nodos, edges normales y edges condicionales\n",
    "\n",
    "# Objetivo de este archivo\n",
    "\n",
    "Ahora se contruirá una cadena simple que combine 4 conceptos claves:\n",
    "\n",
    "* Usar mensajes de chat como \"estado\" para el grafico\n",
    "* Usar modelos de chat en los \"nodos\" del grafico\n",
    "* Enlazar \"Tools\" a nuestro modelo de chat\n",
    "* Ejecutar llamadas a las \"tools en el grafico\""
   ],
   "id": "cb9c51234cdc7de3"
  },
  {
   "cell_type": "code",
   "id": "initial_id",
   "metadata": {
    "collapsed": true,
    "ExecuteTime": {
     "end_time": "2025-02-11T13:17:48.243156Z",
     "start_time": "2025-02-11T13:17:45.706192Z"
    }
   },
   "source": [
    "%%capture --no-stderr\n",
    "%pip install --quiet -U langchain_openai langchain_core langgraph"
   ],
   "outputs": [
    {
     "name": "stderr",
     "output_type": "stream",
     "text": [
      "\n",
      "[notice] A new release of pip is available: 23.2.1 -> 25.0\n",
      "[notice] To update, run: python.exe -m pip install --upgrade pip\n"
     ]
    }
   ],
   "execution_count": 2
  },
  {
   "metadata": {},
   "cell_type": "markdown",
   "source": [
    "# Mensajes [Messages]\n",
    "Los modelos de chat pueden usar \"messages\", los cuales capturan los diferentes roles dentro de una conversasión\n",
    "LangChain soporta varios tipos de \"messages\", incluyendo HumanMessage, AIMessage, SystemMessage, y ToolMessage\n",
    "\n",
    "Estos representan mensajes enviados por el usuario, por el modelo de chat para que el modelo indique un comportamiento y una llamada a alguna herramienta\n",
    "\n",
    "Crearemos una lista de mensajes\n",
    "Cada mensaje puede incluir alguna de las siguientes cosas:\n",
    "* [content] - Es el contenido del mensaje\n",
    "* [name] - Opcionalmente un mensaje del autor\n",
    "* [response_metada] - Opcionalmente, un diccionario de metadatos (Ej: En ocaciones completado por el proveedor del modelo para AIMessages)"
   ],
   "id": "4fcadd52361dec8d"
  },
  {
   "metadata": {
    "ExecuteTime": {
     "end_time": "2025-02-11T13:17:50.270650Z",
     "start_time": "2025-02-11T13:17:50.013720Z"
    }
   },
   "cell_type": "code",
   "source": [
    "from pprint import pprint\n",
    "from langchain_core.messages import AIMessage, HumanMessage\n",
    "\n",
    "messages = [AIMessage(content=f\"So you said you were researching ocean mammals?\", name=\"Model\")]\n",
    "messages.extend([HumanMessage(content=f\"Yes, that´s right.\", name =\"Lance\")])\n",
    "messages.extend([AIMessage(content=f\"Great, what would you like to learn about.\", name=\"Model\")])\n",
    "messages.extend([HumanMessage(content=f\"I want to learn about teh best place to see Orcas in the US\",name =\"Lance\")])\n",
    "\n",
    "for m in messages:\n",
    "    m.pretty_print()"
   ],
   "id": "817a02bf48982a83",
   "outputs": [
    {
     "name": "stdout",
     "output_type": "stream",
     "text": [
      "==================================\u001B[1m Ai Message \u001B[0m==================================\n",
      "Name: Model\n",
      "\n",
      "So you said you were researching ocean mammals?\n",
      "================================\u001B[1m Human Message \u001B[0m=================================\n",
      "Name: Lance\n",
      "\n",
      "Yes, that´s right.\n",
      "==================================\u001B[1m Ai Message \u001B[0m==================================\n",
      "Name: Model\n",
      "\n",
      "Great, what would you like to learn about.\n",
      "================================\u001B[1m Human Message \u001B[0m=================================\n",
      "Name: Lance\n",
      "\n",
      "I want to learn about teh best place to see Orcas in the US\n"
     ]
    }
   ],
   "execution_count": 3
  },
  {
   "metadata": {},
   "cell_type": "raw",
   "source": [
    "# Modelos de Chat\n",
    "Los modelos de chat pueden usar una secuencia de mensajes como entarda y admitir roles en los mensajes como se mencionó en la sección anterior"
   ],
   "id": "7ebac4ea4909e79"
  },
  {
   "metadata": {
    "ExecuteTime": {
     "end_time": "2025-02-11T13:17:57.988228Z",
     "start_time": "2025-02-11T13:17:56.030598Z"
    }
   },
   "cell_type": "code",
   "source": [
    "from general_conf.imports import *\n",
    "load_dotenv(find_dotenv())\n",
    "print(\"Ingresando la APIKEY\")\n",
    "\n"
   ],
   "id": "55aa941bffdcf51d",
   "outputs": [
    {
     "name": "stdout",
     "output_type": "stream",
     "text": [
      "Ingresando la APIKEY\n"
     ]
    }
   ],
   "execution_count": 4
  },
  {
   "metadata": {},
   "cell_type": "markdown",
   "source": [
    "Podemos cargar el modelo de chat e invocarlo con \"invoke\" con la lista de mensajes\n",
    "Se puede ver que el resultado es un AIMessage con \"response_metada\" especificos"
   ],
   "id": "1aebd8b7327b2064"
  },
  {
   "metadata": {
    "ExecuteTime": {
     "end_time": "2025-02-07T18:21:55.850691Z",
     "start_time": "2025-02-07T18:21:53.624063Z"
    }
   },
   "cell_type": "code",
   "source": [
    "from langchain_openai import ChatOpenAI\n",
    "llm = ChatOpenAI(model = \"gpt-3.5-turbo\")\n",
    "result = llm.invoke(messages)\n",
    "type(result)"
   ],
   "id": "2219b0e687e9fd7a",
   "outputs": [
    {
     "data": {
      "text/plain": [
       "langchain_core.messages.ai.AIMessage"
      ]
     },
     "execution_count": 20,
     "metadata": {},
     "output_type": "execute_result"
    }
   ],
   "execution_count": 20
  },
  {
   "metadata": {
    "ExecuteTime": {
     "end_time": "2025-02-07T18:22:45.612602Z",
     "start_time": "2025-02-07T18:22:45.604544Z"
    }
   },
   "cell_type": "code",
   "source": "result",
   "id": "c9a45843033df33c",
   "outputs": [
    {
     "data": {
      "text/plain": [
       "AIMessage(content='One of the best places to see Orcas in the US is in the Pacific Northwest, specifically in the waters around the San Juan Islands in Washington State. The area is known for its resident Orca population, called the Southern Resident killer whales. You can take whale-watching tours from places like Seattle, Anacortes, or Friday Harbor to increase your chances of spotting these magnificent animals in their natural habitat. Additionally, you may also see Orcas in other coastal regions of the US, such as Alaska, Oregon, and California, but the San Juan Islands are particularly renowned for Orca sightings.', additional_kwargs={'refusal': None}, response_metadata={'token_usage': {'completion_tokens': 122, 'prompt_tokens': 67, 'total_tokens': 189, 'completion_tokens_details': {'accepted_prediction_tokens': 0, 'audio_tokens': 0, 'reasoning_tokens': 0, 'rejected_prediction_tokens': 0}, 'prompt_tokens_details': {'audio_tokens': 0, 'cached_tokens': 0}}, 'model_name': 'gpt-3.5-turbo-0125', 'system_fingerprint': None, 'finish_reason': 'stop', 'logprobs': None}, id='run-33e80041-da3e-4719-9ba3-9dd5eea8f319-0', usage_metadata={'input_tokens': 67, 'output_tokens': 122, 'total_tokens': 189, 'input_token_details': {'audio': 0, 'cache_read': 0}, 'output_token_details': {'audio': 0, 'reasoning': 0}})"
      ]
     },
     "execution_count": 21,
     "metadata": {},
     "output_type": "execute_result"
    }
   ],
   "execution_count": 21
  },
  {
   "metadata": {
    "ExecuteTime": {
     "end_time": "2025-02-07T18:25:09.165252Z",
     "start_time": "2025-02-07T18:25:09.158681Z"
    }
   },
   "cell_type": "code",
   "source": "result.response_metadata",
   "id": "57ed9f4d279981e6",
   "outputs": [
    {
     "data": {
      "text/plain": [
       "{'token_usage': {'completion_tokens': 122,\n",
       "  'prompt_tokens': 67,\n",
       "  'total_tokens': 189,\n",
       "  'completion_tokens_details': {'accepted_prediction_tokens': 0,\n",
       "   'audio_tokens': 0,\n",
       "   'reasoning_tokens': 0,\n",
       "   'rejected_prediction_tokens': 0},\n",
       "  'prompt_tokens_details': {'audio_tokens': 0, 'cached_tokens': 0}},\n",
       " 'model_name': 'gpt-3.5-turbo-0125',\n",
       " 'system_fingerprint': None,\n",
       " 'finish_reason': 'stop',\n",
       " 'logprobs': None}"
      ]
     },
     "execution_count": 22,
     "metadata": {},
     "output_type": "execute_result"
    }
   ],
   "execution_count": 22
  },
  {
   "metadata": {},
   "cell_type": "markdown",
   "source": [
    "# TOOLS \n",
    "Las herramientas o \"tools\" son serán siempr utiles cuando se quiera que nuestro sistema de agentes interactue con sistemas externos\n",
    "Estos sitemas externos como la API's, amenudo requieren un esquema de entrada particular en lugar del leguaje natural\n",
    "\n",
    "Cuando por ejemplo enlazamos una API, como herramienta, le damos al modelo conocimiento del esquema de la entrada requerida\n",
    "\n",
    "El modelo decidirá a que herramienta llamar basandose en la entrada del lengaje natural de usuario, y devolverá una salida que se adihera al esquema de la herramienta\n",
    "\n",
    "Muchos proveedores LLM soportan la llamada a herramientas y la interfaz de llamada a herramientas en LangChain es sencilla. \n",
    " \n",
    "Puedes simplemente pasar cualquier 'función' de Python a 'ChatModel.bind_tools(function)'."
   ],
   "id": "9738bbf0f20e107b"
  },
  {
   "metadata": {
    "ExecuteTime": {
     "end_time": "2025-02-07T18:58:20.112968Z",
     "start_time": "2025-02-07T18:58:20.100964Z"
    }
   },
   "cell_type": "code",
   "source": [
    "def multiply(a:int, b:int) -> int:\n",
    "    \"\"\"\n",
    "    Multply a and b\n",
    "    Args:\n",
    "        a: first number\n",
    "        b: second number \n",
    "    \"\"\"\n",
    "    return a * b\n",
    "\n",
    "llm_with_tools = llm.bind_tools([multiply])"
   ],
   "id": "744bf3d4f8c4a7e",
   "outputs": [],
   "execution_count": 23
  },
  {
   "metadata": {},
   "cell_type": "markdown",
   "source": [
    "Si pasaramos una entrada como por ejemplo \"Cuanto es 2 multiplicado por 3\", veriamos la llamada a la herramienta \n",
    "La llamada a la herramienta tiene argumentos específicos que coinciden con el esquema de entrada de nuestra función junto con el nombre de la función a llamar.\n",
    "```\n",
    "{'arguments': '{\"a\":2,\"b\":3}', 'name': 'multiply'}\n",
    "```\n",
    "\n"
   ],
   "id": "17aa3d07f44a08a4"
  },
  {
   "metadata": {
    "ExecuteTime": {
     "end_time": "2025-02-07T19:01:51.359613Z",
     "start_time": "2025-02-07T19:01:50.244448Z"
    }
   },
   "cell_type": "code",
   "source": [
    "tool_call = llm_with_tools.invoke([HumanMessage(content=f\"Cuanto es 2 multiplicado por 3\", name=\"Lance\")])\n",
    "tool_call"
   ],
   "id": "3501cbb78b57be7c",
   "outputs": [
    {
     "data": {
      "text/plain": [
       "AIMessage(content='', additional_kwargs={'tool_calls': [{'id': 'call_Lmx65w7Zz7KJUg367suHhesS', 'function': {'arguments': '{\"a\": 2, \"b\": 3}', 'name': 'multiply'}, 'type': 'function'}], 'refusal': None}, response_metadata={'token_usage': {'completion_tokens': 33, 'prompt_tokens': 74, 'total_tokens': 107, 'completion_tokens_details': {'accepted_prediction_tokens': 0, 'audio_tokens': 0, 'reasoning_tokens': 0, 'rejected_prediction_tokens': 0}, 'prompt_tokens_details': {'audio_tokens': 0, 'cached_tokens': 0}}, 'model_name': 'gpt-3.5-turbo-0125', 'system_fingerprint': None, 'finish_reason': 'tool_calls', 'logprobs': None}, id='run-3abe8f02-7dba-4a83-b680-7b9e7366a9d4-0', tool_calls=[{'name': 'multiply', 'args': {'a': 2, 'b': 3}, 'id': 'call_Lmx65w7Zz7KJUg367suHhesS', 'type': 'tool_call'}], usage_metadata={'input_tokens': 74, 'output_tokens': 33, 'total_tokens': 107, 'input_token_details': {'audio': 0, 'cache_read': 0}, 'output_token_details': {'audio': 0, 'reasoning': 0}})"
      ]
     },
     "execution_count": 24,
     "metadata": {},
     "output_type": "execute_result"
    }
   ],
   "execution_count": 24
  },
  {
   "metadata": {
    "ExecuteTime": {
     "end_time": "2025-02-07T19:02:36.819666Z",
     "start_time": "2025-02-07T19:02:36.814160Z"
    }
   },
   "cell_type": "code",
   "source": "tool_call.additional_kwargs['tool_calls']",
   "id": "93f13917d9de1d65",
   "outputs": [
    {
     "data": {
      "text/plain": [
       "[{'id': 'call_Lmx65w7Zz7KJUg367suHhesS',\n",
       "  'function': {'arguments': '{\"a\": 2, \"b\": 3}', 'name': 'multiply'},\n",
       "  'type': 'function'}]"
      ]
     },
     "execution_count": 25,
     "metadata": {},
     "output_type": "execute_result"
    }
   ],
   "execution_count": 25
  },
  {
   "metadata": {},
   "cell_type": "markdown",
   "source": [
    "# Usar mensajes como un estado del grafico\n",
    "Con todos estos fundamentos podemos usar \"message\" en el estado de nuestros graficos\n",
    "Definiremos nuestro estado \"MessageState como un TypedDict con una sola clave \"message\"\n",
    "\"message\" es simplemente una lista de mensajes, como se definieron anteriormente, como Ej: HumanMessage\n"
   ],
   "id": "522faa2b8bfd28e5"
  },
  {
   "metadata": {
    "ExecuteTime": {
     "end_time": "2025-02-07T19:38:37.995329Z",
     "start_time": "2025-02-07T19:38:37.979797Z"
    }
   },
   "cell_type": "code",
   "source": [
    "from typing_extensions import TypedDict\n",
    "from langchain_core.messages import AnyMessage\n",
    "\n",
    "class MessageState(TypedDict):\n",
    "    message: list[AnyMessage]\n",
    "    "
   ],
   "id": "251c4400a3487062",
   "outputs": [],
   "execution_count": 28
  },
  {
   "metadata": {},
   "cell_type": "markdown",
   "source": [
    "# Reductores\n",
    "\n",
    "¡Ahora tenemos un pequeño problema!\n",
    "\n",
    "A medida que se ejecuta nuestro gráfico, queremos agregar mensajes a nuestra clave de estado de \"messages\".\n",
    "Pero, como comentamos, cada nodo también anulará el valor del estado anterior.\n",
    "## Las funciones reductoras abordan esto.\n",
    "Nos permiten especificar cómo se realizan las actualizaciones de estado.\n",
    "Si no se especifica explícitamente ninguna función reductora, se supone que todas las actualizaciones de esa clave deben anularla.\n",
    "Como queremos agregar \"messages\", ¡podemos usar un reductor [add_messages] prediseñado!\n",
    "Esto garantiza que las actualizaciones de estado que envíe al gráfico se agreguen a la lista de mensajes existente.\n",
    "Anotamos (a través de Annotated) nuestra clave con una función reductora como metadatos."
   ],
   "id": "be87ca217b38d807"
  },
  {
   "metadata": {
    "ExecuteTime": {
     "end_time": "2025-02-07T19:39:06.186604Z",
     "start_time": "2025-02-07T19:39:06.182505Z"
    }
   },
   "cell_type": "code",
   "source": [
    "from typing import Annotated\n",
    "from langgraph.graph.message import add_messages\n",
    "\n",
    "class MessageState(TypedDict):\n",
    "    message: Annotated[list[AnyMessage], add_messages]\n",
    "    "
   ],
   "id": "dbcd1354072d5ecb",
   "outputs": [],
   "execution_count": 30
  },
  {
   "metadata": {},
   "cell_type": "markdown",
   "source": [
    "Dado que es muy común tener una lista de mensajes en estado gráfico, LangGraph tiene un [`MessagesState`] precompilado.\n",
    "\n",
    "Se define `MessagesState`:\n",
    "\n",
    "* Con una clave `messages` única precompilada\n",
    "* Esta es una lista de objetos `AnyMessage`\n",
    "* Utiliza el reductor `add_messages`\n",
    "\n",
    "Normalmente utilizaremos `MessagesState` porque es menos detallado que definir un `TypedDict` personalizado, como se muestra arriba."
   ],
   "id": "8db2a0fd7c9a3ee"
  },
  {
   "metadata": {
    "ExecuteTime": {
     "end_time": "2025-02-07T19:39:09.150998Z",
     "start_time": "2025-02-07T19:39:09.140519Z"
    }
   },
   "cell_type": "code",
   "source": [
    "from langgraph.graph import MessagesState\n",
    "class MessageState(MessagesState):\n",
    "    # Add any keys needed beyond messages, which is pre-built\n",
    "    pass"
   ],
   "id": "6213de708d932a43",
   "outputs": [],
   "execution_count": 31
  },
  {
   "metadata": {},
   "cell_type": "markdown",
   "source": "Para profundizar un poco más, podemos ver cómo funciona el reductor `add_messages` de forma aislada.",
   "id": "bef9879ec45f72ce"
  },
  {
   "metadata": {
    "ExecuteTime": {
     "end_time": "2025-02-07T19:39:11.449579Z",
     "start_time": "2025-02-07T19:39:11.434514Z"
    }
   },
   "cell_type": "code",
   "source": [
    "# Initial state\n",
    "initial_messages =[AIMessage(content=\"Hola, cómo puedo ayudarte?\", name=\"Model\"), \n",
    "                   HumanMessage(content=\"Estoy buscando información de biologia marina\", name=\"Lance\")]\n",
    "# New Message to add\n",
    "new_message = AIMessage(content=\"Claro, puedo ayudarte con eso. En que estás interesado especificamente?\", name=\"Model\")\n",
    "\n",
    "# Test\n",
    "\n",
    "add_messages(initial_messages, new_message)"
   ],
   "id": "a874b2662738fd62",
   "outputs": [
    {
     "data": {
      "text/plain": [
       "[AIMessage(content='Hola, cómo puedo ayudarte?', additional_kwargs={}, response_metadata={}, name='Model', id='01796b4e-0fd2-4be6-a812-000ccd402851'),\n",
       " HumanMessage(content='Estoy buscando información de biologia marina', additional_kwargs={}, response_metadata={}, name='Lance', id='434a3fcd-e6ca-4ae8-a790-bc45de56608c'),\n",
       " AIMessage(content='Claro, puedo ayudarte con eso. En que estás interesado especificamente?', additional_kwargs={}, response_metadata={}, name='Model', id='25043387-2a08-4910-bf89-2bc5cfdd5841')]"
      ]
     },
     "execution_count": 32,
     "metadata": {},
     "output_type": "execute_result"
    }
   ],
   "execution_count": 32
  },
  {
   "metadata": {},
   "cell_type": "markdown",
   "source": [
    "# Nuestro Grafico\n",
    "Ahora intentemos utilizar MessagesState en un grafico"
   ],
   "id": "8dda39b0fd5f071"
  },
  {
   "metadata": {
    "ExecuteTime": {
     "end_time": "2025-02-07T20:10:29.319947Z",
     "start_time": "2025-02-07T20:10:29.181842Z"
    }
   },
   "cell_type": "code",
   "source": [
    "from IPython.display import Image, display\n",
    "from langgraph.graph import StateGraph, START, END\n",
    "\n",
    "# State\n",
    "\n",
    "class MessagesState(MessagesState):\n",
    "    # Add any keys needed  beyond messages, which is pre-built\n",
    "    pass\n",
    "\n",
    "# Nodo\n",
    "def tool_calling_llm(state: MessagesState):\n",
    "    return {\"messages\": [llm_with_tools.invoke(state[\"messages\"])]}\n",
    "\n",
    "\"\"\"\n",
    "# Nodo\n",
    "def tool_calling_llm(state: MessagesState):\n",
    "    return {\"messages\": [llm.invoke(state[\"messages\"])]}\n",
    "\"\"\"\n",
    "\n",
    "# Build graph\n",
    "builder = StateGraph(MessagesState)\n",
    "builder.add_node(\"tool_calling_llm\", tool_calling_llm)\n",
    "builder.add_edge(START, \"tool_calling_llm\")\n",
    "builder.add_edge(\"tool_calling_llm\", END)\n",
    "\n",
    "graph = builder.compile()\n",
    "\n",
    "# View\n",
    "display(Image(graph.get_graph().draw_mermaid_png()))\n"
   ],
   "id": "c0c787779cc5b3a0",
   "outputs": [
    {
     "data": {
      "image/png": "[encoded data removed]",
      "text/plain": [
       "<IPython.core.display.Image object>"
      ]
     },
     "metadata": {},
     "output_type": "display_data"
    }
   ],
   "execution_count": 41
  },
  {
   "metadata": {
    "ExecuteTime": {
     "end_time": "2025-02-07T20:10:33.913069Z",
     "start_time": "2025-02-07T20:10:32.944174Z"
    }
   },
   "cell_type": "code",
   "source": [
    "messages = graph.invoke({\"messages\": HumanMessage(content=\"Hola\")})\n",
    "for m in messages['messages']:\n",
    "    m.pretty_print()\n",
    "    "
   ],
   "id": "2c6505e64bb2a4be",
   "outputs": [
    {
     "name": "stdout",
     "output_type": "stream",
     "text": [
      "================================\u001B[1m Human Message \u001B[0m=================================\n",
      "\n",
      "Hola\n",
      "==================================\u001B[1m Ai Message \u001B[0m==================================\n",
      "\n",
      "¡Hola! ¿Cómo estás? ¿En qué puedo ayudarte hoy?\n"
     ]
    }
   ],
   "execution_count": 42
  },
  {
   "metadata": {
    "ExecuteTime": {
     "end_time": "2025-02-07T20:10:36.934504Z",
     "start_time": "2025-02-07T20:10:36.919199Z"
    }
   },
   "cell_type": "code",
   "source": "messages",
   "id": "242a58dd9a12d3b0",
   "outputs": [
    {
     "data": {
      "text/plain": [
       "{'messages': [HumanMessage(content='Hola', additional_kwargs={}, response_metadata={}, id='5c3f6e7b-7211-4127-881c-91c0e5108157'),\n",
       "  AIMessage(content='¡Hola! ¿Cómo estás? ¿En qué puedo ayudarte hoy?', additional_kwargs={'refusal': None}, response_metadata={'token_usage': {'completion_tokens': 17, 'prompt_tokens': 8, 'total_tokens': 25, 'completion_tokens_details': {'accepted_prediction_tokens': 0, 'audio_tokens': 0, 'reasoning_tokens': 0, 'rejected_prediction_tokens': 0}, 'prompt_tokens_details': {'audio_tokens': 0, 'cached_tokens': 0}}, 'model_name': 'gpt-3.5-turbo-0125', 'system_fingerprint': None, 'finish_reason': 'stop', 'logprobs': None}, id='run-802824d0-080c-4629-bbb8-b27610ec94e5-0', usage_metadata={'input_tokens': 8, 'output_tokens': 17, 'total_tokens': 25, 'input_token_details': {'audio': 0, 'cache_read': 0}, 'output_token_details': {'audio': 0, 'reasoning': 0}})]}"
      ]
     },
     "execution_count": 43,
     "metadata": {},
     "output_type": "execute_result"
    }
   ],
   "execution_count": 43
  },
  {
   "metadata": {},
   "cell_type": "markdown",
   "source": "El LLM elige utilizar una herramienta cuando determina que la entrada o la tarea requiere la funcionalidad proporcionada por esa herramienta.",
   "id": "78030c53049b67"
  },
  {
   "metadata": {
    "ExecuteTime": {
     "end_time": "2025-02-07T20:10:41.995622Z",
     "start_time": "2025-02-07T20:10:41.192656Z"
    }
   },
   "cell_type": "code",
   "source": [
    "messages = graph.invoke({\"messages\": HumanMessage(content=\"Puedes multiplicar 2 por 8\")})\n",
    "\n",
    "for m in messages['messages']:\n",
    "    m.pretty_print()"
   ],
   "id": "30b37f84f3801875",
   "outputs": [
    {
     "name": "stdout",
     "output_type": "stream",
     "text": [
      "================================\u001B[1m Human Message \u001B[0m=================================\n",
      "\n",
      "Puedes multiplicar 2 por 8\n",
      "==================================\u001B[1m Ai Message \u001B[0m==================================\n",
      "\n",
      "Sí, 2 por 8 es igual a 16.\n"
     ]
    }
   ],
   "execution_count": 44
  },
  {
   "metadata": {
    "ExecuteTime": {
     "end_time": "2025-02-07T20:10:44.341115Z",
     "start_time": "2025-02-07T20:10:44.335997Z"
    }
   },
   "cell_type": "code",
   "source": "messages",
   "id": "ef2b3b0e96b52e85",
   "outputs": [
    {
     "data": {
      "text/plain": [
       "{'messages': [HumanMessage(content='Puedes multiplicar 2 por 8', additional_kwargs={}, response_metadata={}, id='446f29c5-d3ae-42ae-85da-3b0de7e39f39'),\n",
       "  AIMessage(content='Sí, 2 por 8 es igual a 16.', additional_kwargs={'refusal': None}, response_metadata={'token_usage': {'completion_tokens': 15, 'prompt_tokens': 17, 'total_tokens': 32, 'completion_tokens_details': {'accepted_prediction_tokens': 0, 'audio_tokens': 0, 'reasoning_tokens': 0, 'rejected_prediction_tokens': 0}, 'prompt_tokens_details': {'audio_tokens': 0, 'cached_tokens': 0}}, 'model_name': 'gpt-3.5-turbo-0125', 'system_fingerprint': None, 'finish_reason': 'stop', 'logprobs': None}, id='run-28602c5e-32ee-4998-80ac-144e8f5f5a32-0', usage_metadata={'input_tokens': 17, 'output_tokens': 15, 'total_tokens': 32, 'input_token_details': {'audio': 0, 'cache_read': 0}, 'output_token_details': {'audio': 0, 'reasoning': 0}})]}"
      ]
     },
     "execution_count": 45,
     "metadata": {},
     "output_type": "execute_result"
    }
   ],
   "execution_count": 45
  }
 ],
 "metadata": {
  "kernelspec": {
   "display_name": "Python 3",
   "language": "python",
   "name": "python3"
  },
  "language_info": {
   "codemirror_mode": {
    "name": "ipython",
    "version": 2
   },
   "file_extension": ".py",
   "mimetype": "text/x-python",
   "name": "python",
   "nbconvert_exporter": "python",
   "pygments_lexer": "ipython2",
   "version": "2.7.6"
  }
 },
 "nbformat": 4,
 "nbformat_minor": 5
}
