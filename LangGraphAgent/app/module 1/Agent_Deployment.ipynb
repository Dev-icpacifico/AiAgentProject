{
 "cells": [
  {
   "metadata": {},
   "cell_type": "markdown",
   "source": [
    "# Deployment\n",
    "\n",
    "### Review\n",
    "\n",
    "Anteriormente construimos un agente con capacidad de memoria\n",
    "\n",
    "* [act]: permite que el modelo llama a herramientas especificas\n",
    "* [observe]: Puede pasar la salida de la herramienta de vuelta al modelo\n",
    "* [reason]: Permite que el modelo razone sobre la salida de la herramienta para decidir que hacer a continuación\n",
    "* [persist]: Utiliza un puntero de control en memoria para admitir conversaciones largas"
   ],
   "id": "30a0e3fd189a464c"
  },
  {
   "metadata": {},
   "cell_type": "markdown",
   "source": [
    "# GOALS\n",
    "\n",
    "Ahora veremos como implementar nuestro agente localmente en Studio y LangGraph Cloud\n",
    "\n"
   ],
   "id": "b29dc05775453d96"
  },
  {
   "metadata": {
    "ExecuteTime": {
     "end_time": "2025-02-11T19:41:21.978096Z",
     "start_time": "2025-02-11T19:41:20.054612Z"
    }
   },
   "cell_type": "code",
   "source": [
    "%%capture --no-stderr\n",
    "%pip install --quiet -U langgraph_sdk"
   ],
   "id": "5fee611c6ae4f975",
   "outputs": [
    {
     "name": "stderr",
     "output_type": "stream",
     "text": [
      "\n",
      "[notice] A new release of pip is available: 23.2.1 -> 25.0\n",
      "[notice] To update, run: python.exe -m pip install --upgrade pip\n"
     ]
    }
   ],
   "execution_count": 2
  },
  {
   "metadata": {},
   "cell_type": "markdown",
   "source": [
    "# Conceptos\n",
    "Acontinuación se explican ciertos conceptos importantes:\n",
    "\n",
    "**[LangGraph]**\n",
    "* Libreria de Python y JavaScript\n",
    "* Permite la creación de flujos de trabajo de agentes\n",
    "\n",
    "**[LangGraph API]**\n",
    "* Agrupa el codido del grafico\n",
    "* Proporciona una cola de tareas para administrar operaciones asincronicas\n",
    "* Ofrece *persistencia* para mantener el estado de todas las interacciones\n",
    "\n",
    "**[LangGraph Cloud]**\n",
    "* Servicio alojado para la API de LangGraph\n",
    "* Permite la implementación de graficos desde repositorios de GitHub\n",
    "* Proporciona monitoreo y seguimiento de graficos implementados\n",
    "* Accesible a través de una URL unica para cada implementación\n",
    "\n",
    "**[LangGraph Studio]**\n",
    "* IDE Para aplicaciones LangGraph\n",
    "* Utiliza la API como su back-end, lo que permite la prueba y exploración de graficos en tiempo real\n",
    "* Se puede Ejecutar localmente o con una implementación en la nube\n",
    "\n",
    "**[LangGraph SDK]**\n",
    "* Biblioteca de Python para interactuar programaticamente con graficos de LangGraph\n",
    "* Proporciona una interfaz consistente para trabajar con graficos, ya se que se distribuyan localmente o en la nuebe\n",
    "* Permite la creación de clientes, acceso a asistentes, administración de subprocesos y ejecución de ejecuciones"
   ],
   "id": "37e230c77be3f2fc"
  },
  {
   "metadata": {},
   "cell_type": "markdown",
   "source": [
    "# Testing Locally\n",
    "Podemos conectar facilmente los graficos con un servidor local in **LangGraph Studio**\n",
    "Esto se hace a través de la URL que se encuentra en la esquina inferior izquierda de la interfaz de usuario"
   ],
   "id": "7caa905ba029f84"
  },
  {
   "metadata": {
    "ExecuteTime": {
     "end_time": "2025-02-11T19:41:56.499148Z",
     "start_time": "2025-02-11T19:41:56.495788Z"
    }
   },
   "cell_type": "code",
   "source": "from langgraph_sdk import get_client",
   "id": "62e2fb28b5272721",
   "outputs": [],
   "execution_count": 4
  },
  {
   "metadata": {
    "ExecuteTime": {
     "end_time": "2025-02-11T19:43:24.759505Z",
     "start_time": "2025-02-11T19:43:03.267648Z"
    }
   },
   "cell_type": "code",
   "source": [
    "# Replace this with teh URL of your own deployed graph\n",
    "\n",
    "URL = \"https://localhost:61198\"\n",
    "client = get_client(url=URL)\n",
    "\n",
    "# Search all hosted graph\n",
    "assistants = await client.assistants.search()\n",
    "assistants"
   ],
   "id": "969b40716aca125",
   "outputs": [
    {
     "ename": "ConnectError",
     "evalue": "All connection attempts failed",
     "output_type": "error",
     "traceback": [
      "\u001B[1;31m---------------------------------------------------------------------------\u001B[0m",
      "\u001B[1;31mConnectError\u001B[0m                              Traceback (most recent call last)",
      "File \u001B[1;32m~\\PycharmProjects\\DHAgent\\.venv\\lib\\site-packages\\httpx\\_transports\\default.py:101\u001B[0m, in \u001B[0;36mmap_httpcore_exceptions\u001B[1;34m()\u001B[0m\n\u001B[0;32m    100\u001B[0m \u001B[38;5;28;01mtry\u001B[39;00m:\n\u001B[1;32m--> 101\u001B[0m     \u001B[38;5;28;01myield\u001B[39;00m\n\u001B[0;32m    102\u001B[0m \u001B[38;5;28;01mexcept\u001B[39;00m \u001B[38;5;167;01mException\u001B[39;00m \u001B[38;5;28;01mas\u001B[39;00m exc:\n",
      "File \u001B[1;32m~\\PycharmProjects\\DHAgent\\.venv\\lib\\site-packages\\httpx\\_transports\\default.py:394\u001B[0m, in \u001B[0;36mAsyncHTTPTransport.handle_async_request\u001B[1;34m(self, request)\u001B[0m\n\u001B[0;32m    393\u001B[0m \u001B[38;5;28;01mwith\u001B[39;00m map_httpcore_exceptions():\n\u001B[1;32m--> 394\u001B[0m     resp \u001B[38;5;241m=\u001B[39m \u001B[38;5;28;01mawait\u001B[39;00m \u001B[38;5;28mself\u001B[39m\u001B[38;5;241m.\u001B[39m_pool\u001B[38;5;241m.\u001B[39mhandle_async_request(req)\n\u001B[0;32m    396\u001B[0m \u001B[38;5;28;01massert\u001B[39;00m \u001B[38;5;28misinstance\u001B[39m(resp\u001B[38;5;241m.\u001B[39mstream, typing\u001B[38;5;241m.\u001B[39mAsyncIterable)\n",
      "File \u001B[1;32m~\\PycharmProjects\\DHAgent\\.venv\\lib\\site-packages\\httpcore\\_async\\connection_pool.py:256\u001B[0m, in \u001B[0;36mAsyncConnectionPool.handle_async_request\u001B[1;34m(self, request)\u001B[0m\n\u001B[0;32m    255\u001B[0m     \u001B[38;5;28;01mawait\u001B[39;00m \u001B[38;5;28mself\u001B[39m\u001B[38;5;241m.\u001B[39m_close_connections(closing)\n\u001B[1;32m--> 256\u001B[0m     \u001B[38;5;28;01mraise\u001B[39;00m exc \u001B[38;5;28;01mfrom\u001B[39;00m\u001B[38;5;250m \u001B[39m\u001B[38;5;28;01mNone\u001B[39;00m\n\u001B[0;32m    258\u001B[0m \u001B[38;5;66;03m# Return the response. Note that in this case we still have to manage\u001B[39;00m\n\u001B[0;32m    259\u001B[0m \u001B[38;5;66;03m# the point at which the response is closed.\u001B[39;00m\n",
      "File \u001B[1;32m~\\PycharmProjects\\DHAgent\\.venv\\lib\\site-packages\\httpcore\\_async\\connection_pool.py:236\u001B[0m, in \u001B[0;36mAsyncConnectionPool.handle_async_request\u001B[1;34m(self, request)\u001B[0m\n\u001B[0;32m    234\u001B[0m \u001B[38;5;28;01mtry\u001B[39;00m:\n\u001B[0;32m    235\u001B[0m     \u001B[38;5;66;03m# Send the request on the assigned connection.\u001B[39;00m\n\u001B[1;32m--> 236\u001B[0m     response \u001B[38;5;241m=\u001B[39m \u001B[38;5;28;01mawait\u001B[39;00m connection\u001B[38;5;241m.\u001B[39mhandle_async_request(\n\u001B[0;32m    237\u001B[0m         pool_request\u001B[38;5;241m.\u001B[39mrequest\n\u001B[0;32m    238\u001B[0m     )\n\u001B[0;32m    239\u001B[0m \u001B[38;5;28;01mexcept\u001B[39;00m ConnectionNotAvailable:\n\u001B[0;32m    240\u001B[0m     \u001B[38;5;66;03m# In some cases a connection may initially be available to\u001B[39;00m\n\u001B[0;32m    241\u001B[0m     \u001B[38;5;66;03m# handle a request, but then become unavailable.\u001B[39;00m\n\u001B[0;32m    242\u001B[0m     \u001B[38;5;66;03m#\u001B[39;00m\n\u001B[0;32m    243\u001B[0m     \u001B[38;5;66;03m# In this case we clear the connection and try again.\u001B[39;00m\n",
      "File \u001B[1;32m~\\PycharmProjects\\DHAgent\\.venv\\lib\\site-packages\\httpcore\\_async\\connection.py:101\u001B[0m, in \u001B[0;36mAsyncHTTPConnection.handle_async_request\u001B[1;34m(self, request)\u001B[0m\n\u001B[0;32m    100\u001B[0m     \u001B[38;5;28mself\u001B[39m\u001B[38;5;241m.\u001B[39m_connect_failed \u001B[38;5;241m=\u001B[39m \u001B[38;5;28;01mTrue\u001B[39;00m\n\u001B[1;32m--> 101\u001B[0m     \u001B[38;5;28;01mraise\u001B[39;00m exc\n\u001B[0;32m    103\u001B[0m \u001B[38;5;28;01mreturn\u001B[39;00m \u001B[38;5;28;01mawait\u001B[39;00m \u001B[38;5;28mself\u001B[39m\u001B[38;5;241m.\u001B[39m_connection\u001B[38;5;241m.\u001B[39mhandle_async_request(request)\n",
      "File \u001B[1;32m~\\PycharmProjects\\DHAgent\\.venv\\lib\\site-packages\\httpcore\\_async\\connection.py:78\u001B[0m, in \u001B[0;36mAsyncHTTPConnection.handle_async_request\u001B[1;34m(self, request)\u001B[0m\n\u001B[0;32m     77\u001B[0m \u001B[38;5;28;01mif\u001B[39;00m \u001B[38;5;28mself\u001B[39m\u001B[38;5;241m.\u001B[39m_connection \u001B[38;5;129;01mis\u001B[39;00m \u001B[38;5;28;01mNone\u001B[39;00m:\n\u001B[1;32m---> 78\u001B[0m     stream \u001B[38;5;241m=\u001B[39m \u001B[38;5;28;01mawait\u001B[39;00m \u001B[38;5;28mself\u001B[39m\u001B[38;5;241m.\u001B[39m_connect(request)\n\u001B[0;32m     80\u001B[0m     ssl_object \u001B[38;5;241m=\u001B[39m stream\u001B[38;5;241m.\u001B[39mget_extra_info(\u001B[38;5;124m\"\u001B[39m\u001B[38;5;124mssl_object\u001B[39m\u001B[38;5;124m\"\u001B[39m)\n",
      "File \u001B[1;32m~\\PycharmProjects\\DHAgent\\.venv\\lib\\site-packages\\httpcore\\_async\\connection.py:124\u001B[0m, in \u001B[0;36mAsyncHTTPConnection._connect\u001B[1;34m(self, request)\u001B[0m\n\u001B[0;32m    123\u001B[0m \u001B[38;5;28;01masync\u001B[39;00m \u001B[38;5;28;01mwith\u001B[39;00m Trace(\u001B[38;5;124m\"\u001B[39m\u001B[38;5;124mconnect_tcp\u001B[39m\u001B[38;5;124m\"\u001B[39m, logger, request, kwargs) \u001B[38;5;28;01mas\u001B[39;00m trace:\n\u001B[1;32m--> 124\u001B[0m     stream \u001B[38;5;241m=\u001B[39m \u001B[38;5;28;01mawait\u001B[39;00m \u001B[38;5;28mself\u001B[39m\u001B[38;5;241m.\u001B[39m_network_backend\u001B[38;5;241m.\u001B[39mconnect_tcp(\u001B[38;5;241m*\u001B[39m\u001B[38;5;241m*\u001B[39mkwargs)\n\u001B[0;32m    125\u001B[0m     trace\u001B[38;5;241m.\u001B[39mreturn_value \u001B[38;5;241m=\u001B[39m stream\n",
      "File \u001B[1;32m~\\PycharmProjects\\DHAgent\\.venv\\lib\\site-packages\\httpcore\\_backends\\auto.py:31\u001B[0m, in \u001B[0;36mAutoBackend.connect_tcp\u001B[1;34m(self, host, port, timeout, local_address, socket_options)\u001B[0m\n\u001B[0;32m     30\u001B[0m \u001B[38;5;28;01mawait\u001B[39;00m \u001B[38;5;28mself\u001B[39m\u001B[38;5;241m.\u001B[39m_init_backend()\n\u001B[1;32m---> 31\u001B[0m \u001B[38;5;28;01mreturn\u001B[39;00m \u001B[38;5;28;01mawait\u001B[39;00m \u001B[38;5;28mself\u001B[39m\u001B[38;5;241m.\u001B[39m_backend\u001B[38;5;241m.\u001B[39mconnect_tcp(\n\u001B[0;32m     32\u001B[0m     host,\n\u001B[0;32m     33\u001B[0m     port,\n\u001B[0;32m     34\u001B[0m     timeout\u001B[38;5;241m=\u001B[39mtimeout,\n\u001B[0;32m     35\u001B[0m     local_address\u001B[38;5;241m=\u001B[39mlocal_address,\n\u001B[0;32m     36\u001B[0m     socket_options\u001B[38;5;241m=\u001B[39msocket_options,\n\u001B[0;32m     37\u001B[0m )\n",
      "File \u001B[1;32m~\\PycharmProjects\\DHAgent\\.venv\\lib\\site-packages\\httpcore\\_backends\\anyio.py:122\u001B[0m, in \u001B[0;36mAnyIOBackend.connect_tcp\u001B[1;34m(self, host, port, timeout, local_address, socket_options)\u001B[0m\n\u001B[0;32m    121\u001B[0m         \u001B[38;5;28;01mfor\u001B[39;00m option \u001B[38;5;129;01min\u001B[39;00m socket_options:\n\u001B[1;32m--> 122\u001B[0m             stream\u001B[38;5;241m.\u001B[39m_raw_socket\u001B[38;5;241m.\u001B[39msetsockopt(\u001B[38;5;241m*\u001B[39moption)  \u001B[38;5;66;03m# type: ignore[attr-defined] # pragma: no cover\u001B[39;00m\n\u001B[0;32m    123\u001B[0m \u001B[38;5;28;01mreturn\u001B[39;00m AnyIOStream(stream)\n",
      "File \u001B[1;32mC:\\Program Files\\WindowsApps\\PythonSoftwareFoundation.Python.3.9_3.9.3568.0_x64__qbz5n2kfra8p0\\lib\\contextlib.py:137\u001B[0m, in \u001B[0;36m_GeneratorContextManager.__exit__\u001B[1;34m(self, typ, value, traceback)\u001B[0m\n\u001B[0;32m    136\u001B[0m \u001B[38;5;28;01mtry\u001B[39;00m:\n\u001B[1;32m--> 137\u001B[0m     \u001B[38;5;28;43mself\u001B[39;49m\u001B[38;5;241;43m.\u001B[39;49m\u001B[43mgen\u001B[49m\u001B[38;5;241;43m.\u001B[39;49m\u001B[43mthrow\u001B[49m\u001B[43m(\u001B[49m\u001B[43mtyp\u001B[49m\u001B[43m,\u001B[49m\u001B[43m \u001B[49m\u001B[43mvalue\u001B[49m\u001B[43m,\u001B[49m\u001B[43m \u001B[49m\u001B[43mtraceback\u001B[49m\u001B[43m)\u001B[49m\n\u001B[0;32m    138\u001B[0m \u001B[38;5;28;01mexcept\u001B[39;00m \u001B[38;5;167;01mStopIteration\u001B[39;00m \u001B[38;5;28;01mas\u001B[39;00m exc:\n\u001B[0;32m    139\u001B[0m     \u001B[38;5;66;03m# Suppress StopIteration *unless* it's the same exception that\u001B[39;00m\n\u001B[0;32m    140\u001B[0m     \u001B[38;5;66;03m# was passed to throw().  This prevents a StopIteration\u001B[39;00m\n\u001B[0;32m    141\u001B[0m     \u001B[38;5;66;03m# raised inside the \"with\" statement from being suppressed.\u001B[39;00m\n",
      "File \u001B[1;32m~\\PycharmProjects\\DHAgent\\.venv\\lib\\site-packages\\httpcore\\_exceptions.py:14\u001B[0m, in \u001B[0;36mmap_exceptions\u001B[1;34m(map)\u001B[0m\n\u001B[0;32m     13\u001B[0m     \u001B[38;5;28;01mif\u001B[39;00m \u001B[38;5;28misinstance\u001B[39m(exc, from_exc):\n\u001B[1;32m---> 14\u001B[0m         \u001B[38;5;28;01mraise\u001B[39;00m to_exc(exc) \u001B[38;5;28;01mfrom\u001B[39;00m\u001B[38;5;250m \u001B[39m\u001B[38;5;21;01mexc\u001B[39;00m\n\u001B[0;32m     15\u001B[0m \u001B[38;5;28;01mraise\u001B[39;00m\n",
      "\u001B[1;31mConnectError\u001B[0m: All connection attempts failed",
      "\nThe above exception was the direct cause of the following exception:\n",
      "\u001B[1;31mConnectError\u001B[0m                              Traceback (most recent call last)",
      "Cell \u001B[1;32mIn[6], line 7\u001B[0m\n\u001B[0;32m      4\u001B[0m client \u001B[38;5;241m=\u001B[39m get_client(url\u001B[38;5;241m=\u001B[39mURL)\n\u001B[0;32m      6\u001B[0m \u001B[38;5;66;03m# Search all hosted graph\u001B[39;00m\n\u001B[1;32m----> 7\u001B[0m assistants \u001B[38;5;241m=\u001B[39m \u001B[38;5;28;01mawait\u001B[39;00m client\u001B[38;5;241m.\u001B[39massistants\u001B[38;5;241m.\u001B[39msearch()\n\u001B[0;32m      8\u001B[0m assistants\n",
      "File \u001B[1;32m~\\PycharmProjects\\DHAgent\\.venv\\lib\\site-packages\\langgraph_sdk\\client.py:718\u001B[0m, in \u001B[0;36mAssistantsClient.search\u001B[1;34m(self, metadata, graph_id, limit, offset)\u001B[0m\n\u001B[0;32m    716\u001B[0m \u001B[38;5;28;01mif\u001B[39;00m graph_id:\n\u001B[0;32m    717\u001B[0m     payload[\u001B[38;5;124m\"\u001B[39m\u001B[38;5;124mgraph_id\u001B[39m\u001B[38;5;124m\"\u001B[39m] \u001B[38;5;241m=\u001B[39m graph_id\n\u001B[1;32m--> 718\u001B[0m \u001B[38;5;28;01mreturn\u001B[39;00m \u001B[38;5;28;01mawait\u001B[39;00m \u001B[38;5;28mself\u001B[39m\u001B[38;5;241m.\u001B[39mhttp\u001B[38;5;241m.\u001B[39mpost(\n\u001B[0;32m    719\u001B[0m     \u001B[38;5;124m\"\u001B[39m\u001B[38;5;124m/assistants/search\u001B[39m\u001B[38;5;124m\"\u001B[39m,\n\u001B[0;32m    720\u001B[0m     json\u001B[38;5;241m=\u001B[39mpayload,\n\u001B[0;32m    721\u001B[0m )\n",
      "File \u001B[1;32m~\\PycharmProjects\\DHAgent\\.venv\\lib\\site-packages\\langgraph_sdk\\client.py:225\u001B[0m, in \u001B[0;36mHttpClient.post\u001B[1;34m(self, path, json)\u001B[0m\n\u001B[0;32m    223\u001B[0m \u001B[38;5;28;01melse\u001B[39;00m:\n\u001B[0;32m    224\u001B[0m     headers, content \u001B[38;5;241m=\u001B[39m {}, \u001B[38;5;124mb\u001B[39m\u001B[38;5;124m\"\u001B[39m\u001B[38;5;124m\"\u001B[39m\n\u001B[1;32m--> 225\u001B[0m r \u001B[38;5;241m=\u001B[39m \u001B[38;5;28;01mawait\u001B[39;00m \u001B[38;5;28mself\u001B[39m\u001B[38;5;241m.\u001B[39mclient\u001B[38;5;241m.\u001B[39mpost(path, headers\u001B[38;5;241m=\u001B[39mheaders, content\u001B[38;5;241m=\u001B[39mcontent)\n\u001B[0;32m    226\u001B[0m \u001B[38;5;28;01mtry\u001B[39;00m:\n\u001B[0;32m    227\u001B[0m     r\u001B[38;5;241m.\u001B[39mraise_for_status()\n",
      "File \u001B[1;32m~\\PycharmProjects\\DHAgent\\.venv\\lib\\site-packages\\httpx\\_client.py:1859\u001B[0m, in \u001B[0;36mAsyncClient.post\u001B[1;34m(self, url, content, data, files, json, params, headers, cookies, auth, follow_redirects, timeout, extensions)\u001B[0m\n\u001B[0;32m   1838\u001B[0m \u001B[38;5;28;01masync\u001B[39;00m \u001B[38;5;28;01mdef\u001B[39;00m\u001B[38;5;250m \u001B[39m\u001B[38;5;21mpost\u001B[39m(\n\u001B[0;32m   1839\u001B[0m     \u001B[38;5;28mself\u001B[39m,\n\u001B[0;32m   1840\u001B[0m     url: URL \u001B[38;5;241m|\u001B[39m \u001B[38;5;28mstr\u001B[39m,\n\u001B[1;32m   (...)\u001B[0m\n\u001B[0;32m   1852\u001B[0m     extensions: RequestExtensions \u001B[38;5;241m|\u001B[39m \u001B[38;5;28;01mNone\u001B[39;00m \u001B[38;5;241m=\u001B[39m \u001B[38;5;28;01mNone\u001B[39;00m,\n\u001B[0;32m   1853\u001B[0m ) \u001B[38;5;241m-\u001B[39m\u001B[38;5;241m>\u001B[39m Response:\n\u001B[0;32m   1854\u001B[0m \u001B[38;5;250m    \u001B[39m\u001B[38;5;124;03m\"\"\"\u001B[39;00m\n\u001B[0;32m   1855\u001B[0m \u001B[38;5;124;03m    Send a `POST` request.\u001B[39;00m\n\u001B[0;32m   1856\u001B[0m \n\u001B[0;32m   1857\u001B[0m \u001B[38;5;124;03m    **Parameters**: See `httpx.request`.\u001B[39;00m\n\u001B[0;32m   1858\u001B[0m \u001B[38;5;124;03m    \"\"\"\u001B[39;00m\n\u001B[1;32m-> 1859\u001B[0m     \u001B[38;5;28;01mreturn\u001B[39;00m \u001B[38;5;28;01mawait\u001B[39;00m \u001B[38;5;28mself\u001B[39m\u001B[38;5;241m.\u001B[39mrequest(\n\u001B[0;32m   1860\u001B[0m         \u001B[38;5;124m\"\u001B[39m\u001B[38;5;124mPOST\u001B[39m\u001B[38;5;124m\"\u001B[39m,\n\u001B[0;32m   1861\u001B[0m         url,\n\u001B[0;32m   1862\u001B[0m         content\u001B[38;5;241m=\u001B[39mcontent,\n\u001B[0;32m   1863\u001B[0m         data\u001B[38;5;241m=\u001B[39mdata,\n\u001B[0;32m   1864\u001B[0m         files\u001B[38;5;241m=\u001B[39mfiles,\n\u001B[0;32m   1865\u001B[0m         json\u001B[38;5;241m=\u001B[39mjson,\n\u001B[0;32m   1866\u001B[0m         params\u001B[38;5;241m=\u001B[39mparams,\n\u001B[0;32m   1867\u001B[0m         headers\u001B[38;5;241m=\u001B[39mheaders,\n\u001B[0;32m   1868\u001B[0m         cookies\u001B[38;5;241m=\u001B[39mcookies,\n\u001B[0;32m   1869\u001B[0m         auth\u001B[38;5;241m=\u001B[39mauth,\n\u001B[0;32m   1870\u001B[0m         follow_redirects\u001B[38;5;241m=\u001B[39mfollow_redirects,\n\u001B[0;32m   1871\u001B[0m         timeout\u001B[38;5;241m=\u001B[39mtimeout,\n\u001B[0;32m   1872\u001B[0m         extensions\u001B[38;5;241m=\u001B[39mextensions,\n\u001B[0;32m   1873\u001B[0m     )\n",
      "File \u001B[1;32m~\\PycharmProjects\\DHAgent\\.venv\\lib\\site-packages\\httpx\\_client.py:1540\u001B[0m, in \u001B[0;36mAsyncClient.request\u001B[1;34m(self, method, url, content, data, files, json, params, headers, cookies, auth, follow_redirects, timeout, extensions)\u001B[0m\n\u001B[0;32m   1525\u001B[0m     warnings\u001B[38;5;241m.\u001B[39mwarn(message, \u001B[38;5;167;01mDeprecationWarning\u001B[39;00m, stacklevel\u001B[38;5;241m=\u001B[39m\u001B[38;5;241m2\u001B[39m)\n\u001B[0;32m   1527\u001B[0m request \u001B[38;5;241m=\u001B[39m \u001B[38;5;28mself\u001B[39m\u001B[38;5;241m.\u001B[39mbuild_request(\n\u001B[0;32m   1528\u001B[0m     method\u001B[38;5;241m=\u001B[39mmethod,\n\u001B[0;32m   1529\u001B[0m     url\u001B[38;5;241m=\u001B[39murl,\n\u001B[1;32m   (...)\u001B[0m\n\u001B[0;32m   1538\u001B[0m     extensions\u001B[38;5;241m=\u001B[39mextensions,\n\u001B[0;32m   1539\u001B[0m )\n\u001B[1;32m-> 1540\u001B[0m \u001B[38;5;28;01mreturn\u001B[39;00m \u001B[38;5;28;01mawait\u001B[39;00m \u001B[38;5;28mself\u001B[39m\u001B[38;5;241m.\u001B[39msend(request, auth\u001B[38;5;241m=\u001B[39mauth, follow_redirects\u001B[38;5;241m=\u001B[39mfollow_redirects)\n",
      "File \u001B[1;32m~\\PycharmProjects\\DHAgent\\.venv\\lib\\site-packages\\httpx\\_client.py:1629\u001B[0m, in \u001B[0;36mAsyncClient.send\u001B[1;34m(self, request, stream, auth, follow_redirects)\u001B[0m\n\u001B[0;32m   1625\u001B[0m \u001B[38;5;28mself\u001B[39m\u001B[38;5;241m.\u001B[39m_set_timeout(request)\n\u001B[0;32m   1627\u001B[0m auth \u001B[38;5;241m=\u001B[39m \u001B[38;5;28mself\u001B[39m\u001B[38;5;241m.\u001B[39m_build_request_auth(request, auth)\n\u001B[1;32m-> 1629\u001B[0m response \u001B[38;5;241m=\u001B[39m \u001B[38;5;28;01mawait\u001B[39;00m \u001B[38;5;28mself\u001B[39m\u001B[38;5;241m.\u001B[39m_send_handling_auth(\n\u001B[0;32m   1630\u001B[0m     request,\n\u001B[0;32m   1631\u001B[0m     auth\u001B[38;5;241m=\u001B[39mauth,\n\u001B[0;32m   1632\u001B[0m     follow_redirects\u001B[38;5;241m=\u001B[39mfollow_redirects,\n\u001B[0;32m   1633\u001B[0m     history\u001B[38;5;241m=\u001B[39m[],\n\u001B[0;32m   1634\u001B[0m )\n\u001B[0;32m   1635\u001B[0m \u001B[38;5;28;01mtry\u001B[39;00m:\n\u001B[0;32m   1636\u001B[0m     \u001B[38;5;28;01mif\u001B[39;00m \u001B[38;5;129;01mnot\u001B[39;00m stream:\n",
      "File \u001B[1;32m~\\PycharmProjects\\DHAgent\\.venv\\lib\\site-packages\\httpx\\_client.py:1657\u001B[0m, in \u001B[0;36mAsyncClient._send_handling_auth\u001B[1;34m(self, request, auth, follow_redirects, history)\u001B[0m\n\u001B[0;32m   1654\u001B[0m request \u001B[38;5;241m=\u001B[39m \u001B[38;5;28;01mawait\u001B[39;00m auth_flow\u001B[38;5;241m.\u001B[39m\u001B[38;5;21m__anext__\u001B[39m()\n\u001B[0;32m   1656\u001B[0m \u001B[38;5;28;01mwhile\u001B[39;00m \u001B[38;5;28;01mTrue\u001B[39;00m:\n\u001B[1;32m-> 1657\u001B[0m     response \u001B[38;5;241m=\u001B[39m \u001B[38;5;28;01mawait\u001B[39;00m \u001B[38;5;28mself\u001B[39m\u001B[38;5;241m.\u001B[39m_send_handling_redirects(\n\u001B[0;32m   1658\u001B[0m         request,\n\u001B[0;32m   1659\u001B[0m         follow_redirects\u001B[38;5;241m=\u001B[39mfollow_redirects,\n\u001B[0;32m   1660\u001B[0m         history\u001B[38;5;241m=\u001B[39mhistory,\n\u001B[0;32m   1661\u001B[0m     )\n\u001B[0;32m   1662\u001B[0m     \u001B[38;5;28;01mtry\u001B[39;00m:\n\u001B[0;32m   1663\u001B[0m         \u001B[38;5;28;01mtry\u001B[39;00m:\n",
      "File \u001B[1;32m~\\PycharmProjects\\DHAgent\\.venv\\lib\\site-packages\\httpx\\_client.py:1694\u001B[0m, in \u001B[0;36mAsyncClient._send_handling_redirects\u001B[1;34m(self, request, follow_redirects, history)\u001B[0m\n\u001B[0;32m   1691\u001B[0m \u001B[38;5;28;01mfor\u001B[39;00m hook \u001B[38;5;129;01min\u001B[39;00m \u001B[38;5;28mself\u001B[39m\u001B[38;5;241m.\u001B[39m_event_hooks[\u001B[38;5;124m\"\u001B[39m\u001B[38;5;124mrequest\u001B[39m\u001B[38;5;124m\"\u001B[39m]:\n\u001B[0;32m   1692\u001B[0m     \u001B[38;5;28;01mawait\u001B[39;00m hook(request)\n\u001B[1;32m-> 1694\u001B[0m response \u001B[38;5;241m=\u001B[39m \u001B[38;5;28;01mawait\u001B[39;00m \u001B[38;5;28mself\u001B[39m\u001B[38;5;241m.\u001B[39m_send_single_request(request)\n\u001B[0;32m   1695\u001B[0m \u001B[38;5;28;01mtry\u001B[39;00m:\n\u001B[0;32m   1696\u001B[0m     \u001B[38;5;28;01mfor\u001B[39;00m hook \u001B[38;5;129;01min\u001B[39;00m \u001B[38;5;28mself\u001B[39m\u001B[38;5;241m.\u001B[39m_event_hooks[\u001B[38;5;124m\"\u001B[39m\u001B[38;5;124mresponse\u001B[39m\u001B[38;5;124m\"\u001B[39m]:\n",
      "File \u001B[1;32m~\\PycharmProjects\\DHAgent\\.venv\\lib\\site-packages\\httpx\\_client.py:1730\u001B[0m, in \u001B[0;36mAsyncClient._send_single_request\u001B[1;34m(self, request)\u001B[0m\n\u001B[0;32m   1725\u001B[0m     \u001B[38;5;28;01mraise\u001B[39;00m \u001B[38;5;167;01mRuntimeError\u001B[39;00m(\n\u001B[0;32m   1726\u001B[0m         \u001B[38;5;124m\"\u001B[39m\u001B[38;5;124mAttempted to send an sync request with an AsyncClient instance.\u001B[39m\u001B[38;5;124m\"\u001B[39m\n\u001B[0;32m   1727\u001B[0m     )\n\u001B[0;32m   1729\u001B[0m \u001B[38;5;28;01mwith\u001B[39;00m request_context(request\u001B[38;5;241m=\u001B[39mrequest):\n\u001B[1;32m-> 1730\u001B[0m     response \u001B[38;5;241m=\u001B[39m \u001B[38;5;28;01mawait\u001B[39;00m transport\u001B[38;5;241m.\u001B[39mhandle_async_request(request)\n\u001B[0;32m   1732\u001B[0m \u001B[38;5;28;01massert\u001B[39;00m \u001B[38;5;28misinstance\u001B[39m(response\u001B[38;5;241m.\u001B[39mstream, AsyncByteStream)\n\u001B[0;32m   1733\u001B[0m response\u001B[38;5;241m.\u001B[39mrequest \u001B[38;5;241m=\u001B[39m request\n",
      "File \u001B[1;32m~\\PycharmProjects\\DHAgent\\.venv\\lib\\site-packages\\httpx\\_transports\\default.py:394\u001B[0m, in \u001B[0;36mAsyncHTTPTransport.handle_async_request\u001B[1;34m(self, request)\u001B[0m\n\u001B[0;32m    381\u001B[0m req \u001B[38;5;241m=\u001B[39m httpcore\u001B[38;5;241m.\u001B[39mRequest(\n\u001B[0;32m    382\u001B[0m     method\u001B[38;5;241m=\u001B[39mrequest\u001B[38;5;241m.\u001B[39mmethod,\n\u001B[0;32m    383\u001B[0m     url\u001B[38;5;241m=\u001B[39mhttpcore\u001B[38;5;241m.\u001B[39mURL(\n\u001B[1;32m   (...)\u001B[0m\n\u001B[0;32m    391\u001B[0m     extensions\u001B[38;5;241m=\u001B[39mrequest\u001B[38;5;241m.\u001B[39mextensions,\n\u001B[0;32m    392\u001B[0m )\n\u001B[0;32m    393\u001B[0m \u001B[38;5;28;01mwith\u001B[39;00m map_httpcore_exceptions():\n\u001B[1;32m--> 394\u001B[0m     resp \u001B[38;5;241m=\u001B[39m \u001B[38;5;28;01mawait\u001B[39;00m \u001B[38;5;28mself\u001B[39m\u001B[38;5;241m.\u001B[39m_pool\u001B[38;5;241m.\u001B[39mhandle_async_request(req)\n\u001B[0;32m    396\u001B[0m \u001B[38;5;28;01massert\u001B[39;00m \u001B[38;5;28misinstance\u001B[39m(resp\u001B[38;5;241m.\u001B[39mstream, typing\u001B[38;5;241m.\u001B[39mAsyncIterable)\n\u001B[0;32m    398\u001B[0m \u001B[38;5;28;01mreturn\u001B[39;00m Response(\n\u001B[0;32m    399\u001B[0m     status_code\u001B[38;5;241m=\u001B[39mresp\u001B[38;5;241m.\u001B[39mstatus,\n\u001B[0;32m    400\u001B[0m     headers\u001B[38;5;241m=\u001B[39mresp\u001B[38;5;241m.\u001B[39mheaders,\n\u001B[0;32m    401\u001B[0m     stream\u001B[38;5;241m=\u001B[39mAsyncResponseStream(resp\u001B[38;5;241m.\u001B[39mstream),\n\u001B[0;32m    402\u001B[0m     extensions\u001B[38;5;241m=\u001B[39mresp\u001B[38;5;241m.\u001B[39mextensions,\n\u001B[0;32m    403\u001B[0m )\n",
      "File \u001B[1;32mC:\\Program Files\\WindowsApps\\PythonSoftwareFoundation.Python.3.9_3.9.3568.0_x64__qbz5n2kfra8p0\\lib\\contextlib.py:137\u001B[0m, in \u001B[0;36m_GeneratorContextManager.__exit__\u001B[1;34m(self, typ, value, traceback)\u001B[0m\n\u001B[0;32m    135\u001B[0m     value \u001B[38;5;241m=\u001B[39m typ()\n\u001B[0;32m    136\u001B[0m \u001B[38;5;28;01mtry\u001B[39;00m:\n\u001B[1;32m--> 137\u001B[0m     \u001B[38;5;28;43mself\u001B[39;49m\u001B[38;5;241;43m.\u001B[39;49m\u001B[43mgen\u001B[49m\u001B[38;5;241;43m.\u001B[39;49m\u001B[43mthrow\u001B[49m\u001B[43m(\u001B[49m\u001B[43mtyp\u001B[49m\u001B[43m,\u001B[49m\u001B[43m \u001B[49m\u001B[43mvalue\u001B[49m\u001B[43m,\u001B[49m\u001B[43m \u001B[49m\u001B[43mtraceback\u001B[49m\u001B[43m)\u001B[49m\n\u001B[0;32m    138\u001B[0m \u001B[38;5;28;01mexcept\u001B[39;00m \u001B[38;5;167;01mStopIteration\u001B[39;00m \u001B[38;5;28;01mas\u001B[39;00m exc:\n\u001B[0;32m    139\u001B[0m     \u001B[38;5;66;03m# Suppress StopIteration *unless* it's the same exception that\u001B[39;00m\n\u001B[0;32m    140\u001B[0m     \u001B[38;5;66;03m# was passed to throw().  This prevents a StopIteration\u001B[39;00m\n\u001B[0;32m    141\u001B[0m     \u001B[38;5;66;03m# raised inside the \"with\" statement from being suppressed.\u001B[39;00m\n\u001B[0;32m    142\u001B[0m     \u001B[38;5;28;01mreturn\u001B[39;00m exc \u001B[38;5;129;01mis\u001B[39;00m \u001B[38;5;129;01mnot\u001B[39;00m value\n",
      "File \u001B[1;32m~\\PycharmProjects\\DHAgent\\.venv\\lib\\site-packages\\httpx\\_transports\\default.py:118\u001B[0m, in \u001B[0;36mmap_httpcore_exceptions\u001B[1;34m()\u001B[0m\n\u001B[0;32m    115\u001B[0m     \u001B[38;5;28;01mraise\u001B[39;00m\n\u001B[0;32m    117\u001B[0m message \u001B[38;5;241m=\u001B[39m \u001B[38;5;28mstr\u001B[39m(exc)\n\u001B[1;32m--> 118\u001B[0m \u001B[38;5;28;01mraise\u001B[39;00m mapped_exc(message) \u001B[38;5;28;01mfrom\u001B[39;00m\u001B[38;5;250m \u001B[39m\u001B[38;5;21;01mexc\u001B[39;00m\n",
      "\u001B[1;31mConnectError\u001B[0m: All connection attempts failed"
     ]
    }
   ],
   "execution_count": 6
  },
  {
   "metadata": {},
   "cell_type": "code",
   "outputs": [],
   "execution_count": null,
   "source": [
    "# Select teh agent\n",
    "agent = assistants[1]"
   ],
   "id": "fa6f23fe83e30bc1"
  },
  {
   "metadata": {},
   "cell_type": "code",
   "outputs": [],
   "execution_count": null,
   "source": "agent",
   "id": "19d86f3c528cdd8"
  },
  {
   "metadata": {},
   "cell_type": "code",
   "outputs": [],
   "execution_count": null,
   "source": [
    "# Creamos un thread para trackear el estado de ejecución\n",
    "thread =  await client.threads.create()"
   ],
   "id": "3061a843c59d992"
  },
  {
   "metadata": {},
   "cell_type": "markdown",
   "source": "Ahora podemos ejecutar nuestro agente",
   "id": "d11e8de26af36c08"
  },
  {
   "metadata": {},
   "cell_type": "code",
   "outputs": [],
   "execution_count": null,
   "source": [
    "from langchain_core.messages import HumanMessage\n",
    "\n",
    "# Input\n",
    "input = {\"messages\": [HumanMessage(content=\"Multiplica 3 por 2\")]}\n",
    "\n",
    "# Stream\n",
    "async for chunk in client.runs.stream(\n",
    "    thread['thread_id'],\n",
    "    agent['assistant_id'],\n",
    "    input = input,\n",
    "    stream_mode = \"values\"\n",
    "):\n",
    "    if chunk.data and chunk.event != \"metadata\":\n",
    "        print(chunk.data['message'][-1])"
   ],
   "id": "13e8a9b05497d096"
  }
 ],
 "metadata": {
  "kernelspec": {
   "display_name": "Python 3",
   "language": "python",
   "name": "python3"
  },
  "language_info": {
   "codemirror_mode": {
    "name": "ipython",
    "version": 2
   },
   "file_extension": ".py",
   "mimetype": "text/x-python",
   "name": "python",
   "nbconvert_exporter": "python",
   "pygments_lexer": "ipython2",
   "version": "2.7.6"
  }
 },
 "nbformat": 4,
 "nbformat_minor": 5
}
